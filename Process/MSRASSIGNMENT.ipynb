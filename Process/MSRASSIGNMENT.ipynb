{
  "nbformat": 4,
  "nbformat_minor": 0,
  "metadata": {
    "colab": {
      "name": "MSRASSIGNMENT.ipynb",
      "provenance": []
    },
    "kernelspec": {
      "name": "python3",
      "display_name": "Python 3"
    },
    "language_info": {
      "name": "python"
    }
  },
  "cells": [
    {
      "cell_type": "code",
      "execution_count": 1,
      "metadata": {
        "colab": {
          "base_uri": "https://localhost:8080/"
        },
        "id": "v_nQcBhZPi4r",
        "outputId": "b361bed4-b3fa-4205-c086-ba7f0d84e044"
      },
      "outputs": [
        {
          "output_type": "stream",
          "name": "stdout",
          "text": [
            "Cloning into 'inspect4py'...\n",
            "remote: Enumerating objects: 2683, done.\u001b[K\n",
            "remote: Counting objects: 100% (565/565), done.\u001b[K\n",
            "remote: Compressing objects: 100% (355/355), done.\u001b[K\n",
            "remote: Total 2683 (delta 219), reused 343 (delta 207), pack-reused 2118\u001b[K\n",
            "Receiving objects: 100% (2683/2683), 15.27 MiB | 16.91 MiB/s, done.\n",
            "Resolving deltas: 100% (1246/1246), done.\n"
          ]
        }
      ],
      "source": [
        "!git clone https://github.com/SoftwareUnderstanding/inspect4py"
      ]
    },
    {
      "cell_type": "code",
      "source": [
        "cd inspect4py"
      ],
      "metadata": {
        "colab": {
          "base_uri": "https://localhost:8080/"
        },
        "id": "qwoFhATOPtwk",
        "outputId": "b2940412-c6f4-4ef3-9467-ae4f230374a6"
      },
      "execution_count": 2,
      "outputs": [
        {
          "output_type": "stream",
          "name": "stdout",
          "text": [
            "/content/inspect4py\n"
          ]
        }
      ]
    },
    {
      "cell_type": "code",
      "source": [
        "pip install -e ."
      ],
      "metadata": {
        "id": "bqOthkCxPxB7"
      },
      "execution_count": null,
      "outputs": []
    },
    {
      "cell_type": "code",
      "source": [
        "inspect4py -i path_to_github_repo/inspect4py -f  \n"
      ],
      "metadata": {
        "id": "IppP2hUqQHAL"
      },
      "execution_count": null,
      "outputs": []
    }
  ]
}